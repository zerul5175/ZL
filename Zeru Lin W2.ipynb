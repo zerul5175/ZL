{
  "metadata": {
    "kernelspec": {
      "name": "python",
      "display_name": "Python (Pyodide)",
      "language": "python"
    },
    "language_info": {
      "codemirror_mode": {
        "name": "python",
        "version": 3
      },
      "file_extension": ".py",
      "mimetype": "text/x-python",
      "name": "python",
      "nbconvert_exporter": "python",
      "pygments_lexer": "ipython3",
      "version": "3.8"
    }
  },
  "nbformat_minor": 4,
  "nbformat": 4,
  "cells": [
    {
      "cell_type": "markdown",
      "source": "## Practice Questions for Pandas\n\n1. From df filter the 'Manufacturer', 'Model' and 'Type' for every 20th row starting from 1st (row 0).\n\n```\ndf = pd.read_csv('https://raw.githubusercontent.com/selva86/datasets/master/Cars93_miss.csv')\n```\n\n2. Replace missing values in Min.Price and Max.Price columns with their respective mean.\n\n```\ndf = pd.read_csv('https://raw.githubusercontent.com/selva86/datasets/master/Cars93_miss.csv')\n```\n\n3. How to get the rows of a dataframe with row sum > 100?\n\n```\ndf = pd.DataFrame(np.random.randint(10, 40, 60).reshape(-1, 4))\n\n```\n4. Create a 4x4 NumPy array filled with random integers between 1 and 100. Then, reshape this array into two separate 2D arrays, where one represents the rows and the other represents the columns. Write a function, preferably using a lambda function, to calculate the sum of each row and each column separately, and return the results as two separate NumPy arrays\n",
      "metadata": {
        "id": "nTFFs5kyw0GO"
      }
    },
    {
      "cell_type": "code",
      "source": "import pandas as pd\n\n# Load the dataset\ndf = pd.read_csv('Cars93_miss.csv')\n\nfiltered_df = df.loc[::20, ['Manufacturer', 'Model', 'Type']]\n\nfiltered_df\n",
      "metadata": {
        "trusted": true
      },
      "outputs": [
        {
          "execution_count": 3,
          "output_type": "execute_result",
          "data": {
            "text/plain": "   Manufacturer    Model     Type\n0         Acura  Integra    Small\n20     Chrysler  LeBaron  Compact\n40        Honda  Prelude   Sporty\n60      Mercury   Cougar  Midsize\n80       Subaru   Loyale    Small",
            "text/html": "<div>\n<style scoped>\n    .dataframe tbody tr th:only-of-type {\n        vertical-align: middle;\n    }\n\n    .dataframe tbody tr th {\n        vertical-align: top;\n    }\n\n    .dataframe thead th {\n        text-align: right;\n    }\n</style>\n<table border=\"1\" class=\"dataframe\">\n  <thead>\n    <tr style=\"text-align: right;\">\n      <th></th>\n      <th>Manufacturer</th>\n      <th>Model</th>\n      <th>Type</th>\n    </tr>\n  </thead>\n  <tbody>\n    <tr>\n      <th>0</th>\n      <td>Acura</td>\n      <td>Integra</td>\n      <td>Small</td>\n    </tr>\n    <tr>\n      <th>20</th>\n      <td>Chrysler</td>\n      <td>LeBaron</td>\n      <td>Compact</td>\n    </tr>\n    <tr>\n      <th>40</th>\n      <td>Honda</td>\n      <td>Prelude</td>\n      <td>Sporty</td>\n    </tr>\n    <tr>\n      <th>60</th>\n      <td>Mercury</td>\n      <td>Cougar</td>\n      <td>Midsize</td>\n    </tr>\n    <tr>\n      <th>80</th>\n      <td>Subaru</td>\n      <td>Loyale</td>\n      <td>Small</td>\n    </tr>\n  </tbody>\n</table>\n</div>"
          },
          "metadata": {}
        }
      ],
      "execution_count": 3
    },
    {
      "cell_type": "code",
      "source": "import pandas as pd\n\ndf = pd.read_csv('Cars93_miss.csv')\n\nmean_min_price = df['Min.Price'].mean()\nmean_max_price = df['Max.Price'].mean()\n\ndf['Min.Price'].fillna(mean_min_price, inplace=True)\ndf['Max.Price'].fillna(mean_max_price, inplace=True)\n\nprint(df.head())\n",
      "metadata": {
        "trusted": true
      },
      "outputs": [
        {
          "name": "stdout",
          "text": "  Manufacturer    Model     Type  Min.Price  Price  Max.Price  MPG.city  \\\n0        Acura  Integra    Small  12.900000   15.9  18.800000      25.0   \n1          NaN   Legend  Midsize  29.200000   33.9  38.700000      18.0   \n2         Audi       90  Compact  25.900000   29.1  32.300000      20.0   \n3         Audi      100  Midsize  17.118605   37.7  44.600000      19.0   \n4          BMW     535i  Midsize  17.118605   30.0  21.459091      22.0   \n\n   MPG.highway             AirBags DriveTrain  ... Passengers  Length  \\\n0         31.0                None      Front  ...        5.0   177.0   \n1         25.0  Driver & Passenger      Front  ...        5.0   195.0   \n2         26.0         Driver only      Front  ...        5.0   180.0   \n3         26.0  Driver & Passenger        NaN  ...        6.0   193.0   \n4         30.0                 NaN       Rear  ...        4.0   186.0   \n\n   Wheelbase  Width  Turn.circle Rear.seat.room  Luggage.room  Weight  \\\n0      102.0   68.0         37.0           26.5           NaN  2705.0   \n1      115.0   71.0         38.0           30.0          15.0  3560.0   \n2      102.0   67.0         37.0           28.0          14.0  3375.0   \n3      106.0    NaN         37.0           31.0          17.0  3405.0   \n4      109.0   69.0         39.0           27.0          13.0  3640.0   \n\n    Origin           Make  \n0  non-USA  Acura Integra  \n1  non-USA   Acura Legend  \n2  non-USA        Audi 90  \n3  non-USA       Audi 100  \n4  non-USA       BMW 535i  \n\n[5 rows x 27 columns]\n",
          "output_type": "stream"
        }
      ],
      "execution_count": 4
    },
    {
      "cell_type": "code",
      "source": "import pandas as pd\nimport numpy as np\n\ndf = pd.DataFrame(np.random.randint(10, 40, 60).reshape(-1, 4))\n\nfiltered_df = df[df.sum(axis=1) > 100]\n\nprint(filtered_df)\n",
      "metadata": {
        "trusted": true
      },
      "outputs": [
        {
          "name": "stdout",
          "text": "     0   1   2   3\n1   35  35  31  30\n2   25  32  37  11\n4   16  33  36  19\n8   26  15  38  31\n9   27  28  32  30\n10  33  18  26  30\n11  35  23  39  33\n13  20  21  32  34\n",
          "output_type": "stream"
        }
      ],
      "execution_count": 5
    },
    {
      "cell_type": "code",
      "source": "import numpy as np\n\noriginal_array = np.random.randint(1, 100, size=(4, 4))\n\nrows_array = original_array.copy()\ncolumns_array = original_array.T\n\nsum_rows = lambda array: np.sum(array, axis=1)\nsum_columns = lambda array: np.sum(array, axis=0)\n\nrows_sum = sum_rows(rows_array)\ncolumns_sum = sum_columns(columns_array)\n\noriginal_array, rows_sum, columns_sum\n",
      "metadata": {
        "trusted": true
      },
      "outputs": [
        {
          "execution_count": 6,
          "output_type": "execute_result",
          "data": {
            "text/plain": "(array([[71, 20, 60, 69],\n        [ 6, 80, 85, 30],\n        [81, 78, 32, 17],\n        [21, 42, 17, 29]]),\n array([220, 201, 208, 109]),\n array([220, 201, 208, 109]))"
          },
          "metadata": {}
        }
      ],
      "execution_count": 6
    },
    {
      "cell_type": "code",
      "source": "",
      "metadata": {
        "trusted": true
      },
      "outputs": [],
      "execution_count": null
    }
  ]
}