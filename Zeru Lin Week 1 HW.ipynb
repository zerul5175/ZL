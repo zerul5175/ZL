{
  "metadata": {
    "kernelspec": {
      "name": "python",
      "display_name": "Python (Pyodide)",
      "language": "python"
    },
    "language_info": {
      "codemirror_mode": {
        "name": "python",
        "version": 3
      },
      "file_extension": ".py",
      "mimetype": "text/x-python",
      "name": "python",
      "nbconvert_exporter": "python",
      "pygments_lexer": "ipython3",
      "version": "3.8"
    }
  },
  "nbformat_minor": 4,
  "nbformat": 4,
  "cells": [
    {
      "cell_type": "markdown",
      "source": "## Take home exercises\n\n1. Write a function  *count_vowels(word)* that takes a word as an argument and returns the number of vowels in the word\n2. Iterate through the following list of animals and print each one in all caps.\n\n  animals=['tiger', 'elephant', 'monkey', 'zebra', 'panther']\n\n3. Write a program that iterates from 1 to 20, printing each number and whether it's odd or even.\n4. Write a function *sum_of_integers(a, b)* that takes two integers as input from the user and returns their sum.",
      "metadata": {}
    },
    {
      "cell_type": "code",
      "source": "def count_vowels(word):\n    \n    vowels = 'aeiouAEIOU'\n    return sum(1 for letter in word if letter in vowels)\n\n\ntest_words = ['Teacher', 'America', 'world', 'rhythm']\ntest_results = {word: count_vowels(word) for word in test_words}\n\ntest_results\n",
      "metadata": {
        "trusted": true
      },
      "outputs": [
        {
          "execution_count": 7,
          "output_type": "execute_result",
          "data": {
            "text/plain": "{'Teacher': 3, 'America': 4, 'world': 1, 'rhythm': 0}"
          },
          "metadata": {}
        }
      ],
      "execution_count": 7
    },
    {
      "cell_type": "code",
      "source": "animals = ['tiger', 'elephant', 'monkey', 'zebra', 'panther']\n\nfor animal in animals:\n    print(animal.upper())",
      "metadata": {
        "trusted": true
      },
      "outputs": [
        {
          "name": "stdout",
          "text": "TIGER\nELEPHANT\nMONKEY\nZEBRA\nPANTHER\n",
          "output_type": "stream"
        }
      ],
      "execution_count": 8
    },
    {
      "cell_type": "code",
      "source": "for i in range(1, 21):\n    if i % 2 == 0:\n        print(f\"{i} is even\")\n    else:\n        print(f\"{i} is odd\")",
      "metadata": {
        "trusted": true
      },
      "outputs": [
        {
          "name": "stdout",
          "text": "1 is odd\n2 is even\n3 is odd\n4 is even\n5 is odd\n6 is even\n7 is odd\n8 is even\n9 is odd\n10 is even\n11 is odd\n12 is even\n13 is odd\n14 is even\n15 is odd\n16 is even\n17 is odd\n18 is even\n19 is odd\n20 is even\n",
          "output_type": "stream"
        }
      ],
      "execution_count": 10
    },
    {
      "cell_type": "code",
      "source": "def sum_of_integers(a, b):\n    return a + b\n\nexample_a = 8\nexample_b = 6\n\nsum_result = sum_of_integers(example_a, example_b)\nsum_result\n",
      "metadata": {
        "trusted": true
      },
      "outputs": [
        {
          "execution_count": 11,
          "output_type": "execute_result",
          "data": {
            "text/plain": "14"
          },
          "metadata": {}
        }
      ],
      "execution_count": 11
    },
    {
      "cell_type": "code",
      "source": "books = [\n    {\n        \"title\": \"The Great Gatsby\",\n        \"author\": \"F. Scott Fitzgerald\",\n        \"genre\": \"Fiction\",\n        \"rating\": 4.2\n    },\n    {\n        \"title\": \"To Kill a Mockingbird\",\n        \"author\": \"Harper Lee\",\n        \"genre\": \"Classic\",\n        \"rating\": 4.5\n    },\n    {\n        \"title\": \"1984\",\n        \"author\": \"George Orwell\",\n        \"genre\": \"Dystopian\",\n        \"rating\": 4.8\n    },\n    {\n        \"title\": \"Pride and Prejudice\",\n        \"author\": \"Jane Austen\",\n        \"genre\": \"Romance\",\n        \"rating\": 4.7\n    },\n    {\n        \"title\": \"Harry Potter and the Sorcerer's Stone\",\n        \"author\": \"J.K. Rowling\",\n        \"genre\": \"Fantasy\",\n        \"rating\": 4.9\n    },\n    {\n        \"title\": \"The Catcher in the Rye\",\n        \"author\": \"J.D. Salinger\",\n        \"genre\": \"Coming-of-age\",\n        \"rating\": 4.1\n    }\n]\n",
      "metadata": {
        "trusted": true
      },
      "outputs": [],
      "execution_count": 24
    },
    {
      "cell_type": "markdown",
      "source": "1.Checking Book Ratings\n\nWrite a function check_rating(book) that takes a book dictionary and returns True if the rating is greater than 4.5, and False otherwise. Additionally, modify the function to return 'low' if the rating is less than or equal to 4.0, 'medium' if it's greater than 4.0 but less than or equal to 4.5, and 'high' if it's greater than 4.5.\n\n2.Average Rating by Genre\n\nWrite a function average_rating_by_genre(books, genre) that accepts the list of books and a genre, and returns the average rating for that genre. If the genre does not exist in the list, return an appropriate message.\n\n3.Books by Author\n\nWrite a function books_by_author(books, author) that accepts the book list and an author's name, and returns a list of all the books written by that author. If the author does not exist, raise a custom error.",
      "metadata": {}
    },
    {
      "cell_type": "code",
      "source": "",
      "metadata": {
        "trusted": true
      },
      "outputs": [],
      "execution_count": null
    },
    {
      "cell_type": "code",
      "source": "def check_rating(book):\n    rating = book.get('rating', 0)\n    \n    if rating > 4.5:\n        return 'high'\n    elif rating > 4.0:\n        return 'medium'\n    else:\n        return 'low'\n\nbook1 = {'title': 'Book One', 'rating': 4.7}\nbook3 = {'title': 'Book Three', 'rating': 4.3}\nbook5 = {'title': 'Book Five', 'rating': 3.9}\n\nresult_check_rating = { check_rating (book1)\n\nresult_check_rating\n\n",
      "metadata": {
        "trusted": true
      },
      "outputs": [
        {
          "execution_count": 6,
          "output_type": "execute_result",
          "data": {
            "text/plain": "'high'"
          },
          "metadata": {}
        }
      ],
      "execution_count": 6
    },
    {
      "cell_type": "code",
      "source": "def average_rating_by_genre(books, genre):\n\n    genre_books = [book for book in books if book['genre'] == genre]\n    \n    if not genre_books:\n        return \"Genre does not exist in the list.\"\n    \n    total_rating = sum(book['rating'] for book in genre_books)\n    average_rating = total_rating / len(genre_books)\n    \n    return average_rating\n\n\nbooks_example = [\n    {'title': 'Book One', 'genre': 'Classic', 'rating': 4.5},\n    {'title': 'Book Two', 'genre': 'Dystopian', 'rating': 4.7},\n    {'title': 'Book Three', 'genre': 'Fiction', 'rating': 4.8},\n    {'title': 'Book Four', 'genre': 'Romance', 'rating': 4.3},\n]\n\naverage_rating_Classic = average_rating_by_genre(books_example, 'Classic')\naverage_rating_Fiction = average_rating_by_genre(books_example, 'Fiction')\naverage_rating_nonexistent = average_rating_by_genre(books_example, 'Nonexistent Genre')\n\n(average_rating_Classic, average_rating_Fiction, average_rating_nonexistent)\n",
      "metadata": {
        "trusted": true
      },
      "outputs": [
        {
          "execution_count": 25,
          "output_type": "execute_result",
          "data": {
            "text/plain": "(4.5, 4.8, 'Genre does not exist in the list.')"
          },
          "metadata": {}
        }
      ],
      "execution_count": 25
    },
    {
      "cell_type": "code",
      "source": "def books_by_author(books, author):\n    \n    author_books = [book for book in books if book['author'] == author]\n    \n    if not author_books:\n        raise ValueError(\"Author does not exist in the list.\")\n    \n    return author_books\n\nbooks_example = [\n    {'title': 'Book One', 'author': 'George Orwell', 'rating': 4.5},\n    {'title': 'Book Two', 'author': 'Jane Austen', 'rating': 4.7},\n    {'title': 'Book Three', 'author': 'Harper Lee', 'rating': 4.8},\n    {'title': 'Book Four', 'author': 'Harper Lee', 'rating': 4.3},\n]\n\ntry:\n    books_by_author_a = books_by_author(books_example, 'George Orwell')\n    print(\"Books by Author A:\", books_by_author_a)\n    \n    books_by_nonexistent_author = books_by_author(books_example, 'Nonexistent Author')\nexcept ValueError as e:\n    print(e)\n",
      "metadata": {
        "trusted": true
      },
      "outputs": [
        {
          "name": "stdout",
          "text": "Books by Author A: [{'title': 'Book One', 'author': 'George Orwell', 'rating': 4.5}]\nAuthor does not exist in the list.\n",
          "output_type": "stream"
        }
      ],
      "execution_count": 26
    },
    {
      "cell_type": "code",
      "source": "",
      "metadata": {
        "trusted": true
      },
      "outputs": [],
      "execution_count": null
    }
  ]
}